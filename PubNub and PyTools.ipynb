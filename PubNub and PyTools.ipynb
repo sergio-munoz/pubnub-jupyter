{
 "cells": [
  {
   "cell_type": "code",
   "execution_count": 2,
   "id": "1d0a1cb6",
   "metadata": {},
   "outputs": [
    {
     "name": "stdout",
     "output_type": "stream",
     "text": [
      "Defaulting to user installation because normal site-packages is not writeable\n",
      "Requirement already satisfied: pubnub in /Users/sergio.munoz/Library/Python/3.8/lib/python/site-packages (7.0.0)\n",
      "Requirement already satisfied: requests>=2.4 in /Users/sergio.munoz/Library/Python/3.8/lib/python/site-packages (from pubnub) (2.28.1)\n",
      "Requirement already satisfied: aiohttp in /Users/sergio.munoz/Library/Python/3.8/lib/python/site-packages (from pubnub) (3.8.1)\n",
      "Requirement already satisfied: pycryptodomex>=3.3 in /Users/sergio.munoz/Library/Python/3.8/lib/python/site-packages (from pubnub) (3.15.0)\n",
      "Requirement already satisfied: cbor2 in /Users/sergio.munoz/Library/Python/3.8/lib/python/site-packages (from pubnub) (5.4.3)\n",
      "Requirement already satisfied: certifi>=2017.4.17 in /Users/sergio.munoz/Library/Python/3.8/lib/python/site-packages (from requests>=2.4->pubnub) (2022.6.15)\n",
      "Requirement already satisfied: idna<4,>=2.5 in /Users/sergio.munoz/Library/Python/3.8/lib/python/site-packages (from requests>=2.4->pubnub) (3.3)\n",
      "Requirement already satisfied: urllib3<1.27,>=1.21.1 in /Users/sergio.munoz/Library/Python/3.8/lib/python/site-packages (from requests>=2.4->pubnub) (1.26.12)\n",
      "Requirement already satisfied: charset-normalizer<3,>=2 in /Users/sergio.munoz/Library/Python/3.8/lib/python/site-packages (from requests>=2.4->pubnub) (2.1.1)\n",
      "Requirement already satisfied: yarl<2.0,>=1.0 in /Users/sergio.munoz/Library/Python/3.8/lib/python/site-packages (from aiohttp->pubnub) (1.8.1)\n",
      "Requirement already satisfied: frozenlist>=1.1.1 in /Users/sergio.munoz/Library/Python/3.8/lib/python/site-packages (from aiohttp->pubnub) (1.3.1)\n",
      "Requirement already satisfied: attrs>=17.3.0 in /Users/sergio.munoz/Library/Python/3.8/lib/python/site-packages (from aiohttp->pubnub) (22.1.0)\n",
      "Requirement already satisfied: multidict<7.0,>=4.5 in /Users/sergio.munoz/Library/Python/3.8/lib/python/site-packages (from aiohttp->pubnub) (6.0.2)\n",
      "Requirement already satisfied: aiosignal>=1.1.2 in /Users/sergio.munoz/Library/Python/3.8/lib/python/site-packages (from aiohttp->pubnub) (1.2.0)\n",
      "Requirement already satisfied: async-timeout<5.0,>=4.0.0a3 in /Users/sergio.munoz/Library/Python/3.8/lib/python/site-packages (from aiohttp->pubnub) (4.0.2)\n",
      "\n",
      "\u001b[1m[\u001b[0m\u001b[34;49mnotice\u001b[0m\u001b[1;39;49m]\u001b[0m\u001b[39;49m A new release of pip available: \u001b[0m\u001b[31;49m22.2\u001b[0m\u001b[39;49m -> \u001b[0m\u001b[32;49m22.2.2\u001b[0m\n",
      "\u001b[1m[\u001b[0m\u001b[34;49mnotice\u001b[0m\u001b[1;39;49m]\u001b[0m\u001b[39;49m To update, run: \u001b[0m\u001b[32;49m/Library/Developer/CommandLineTools/usr/bin/python3 -m pip install --upgrade pip\u001b[0m\n",
      "Defaulting to user installation because normal site-packages is not writeable\n",
      "Looking in indexes: https://test.pypi.org/simple/\n",
      "Requirement already satisfied: pubnub-python-tools in /Users/sergio.munoz/Library/Python/3.8/lib/python/site-packages (0.1.18)\n",
      "Collecting pubnub-python-tools\n",
      "  Downloading https://test-files.pythonhosted.org/packages/e0/e3/7db130deecef6a82cf7044a8dbf6e723ea0da7bb7a3660ed5a15d7049b19/pubnub_python_tools-0.2.0-py3-none-any.whl (17 kB)\n",
      "Installing collected packages: pubnub-python-tools\n",
      "  Attempting uninstall: pubnub-python-tools\n",
      "    Found existing installation: pubnub_python_tools 0.1.18\n",
      "    Uninstalling pubnub_python_tools-0.1.18:\n",
      "      Successfully uninstalled pubnub_python_tools-0.1.18\n",
      "Successfully installed pubnub-python-tools-0.2.0\n",
      "\n",
      "\u001b[1m[\u001b[0m\u001b[34;49mnotice\u001b[0m\u001b[1;39;49m]\u001b[0m\u001b[39;49m A new release of pip available: \u001b[0m\u001b[31;49m22.2\u001b[0m\u001b[39;49m -> \u001b[0m\u001b[32;49m22.2.2\u001b[0m\n",
      "\u001b[1m[\u001b[0m\u001b[34;49mnotice\u001b[0m\u001b[1;39;49m]\u001b[0m\u001b[39;49m To update, run: \u001b[0m\u001b[32;49m/Library/Developer/CommandLineTools/usr/bin/python3 -m pip install --upgrade pip\u001b[0m\n"
     ]
    }
   ],
   "source": [
    "# Install a pip package in the current Jupyter kernel\n",
    "import sys\n",
    "!{sys.executable} -m pip install -U pubnub\n",
    "!{sys.executable} -m pip install -U --index-url https://test.pypi.org/simple/ --no-deps pubnub-python-tools"
   ]
  },
  {
   "cell_type": "code",
   "execution_count": null,
   "id": "f9969436",
   "metadata": {},
   "outputs": [],
   "source": [
    "from pubnub_python_tools.app.main_app import main\n",
    "main([\"-sk\", \"sub-c-0b961af6-42b7-463d-ac2f-99a6714b57af\", \"-s\", \"u.e001.UUID\", \"-u\", \"UUID\"])\n",
    "main([\"-sk\", \"sub-c-0b961af6-42b7-463d-ac2f-99a6714b57af\", \"-pk\", \"pub-c-a5d7e586-619c-4cad-85a6-51b08f033bc7\", \"-p\", \"u.e001.UUID\", \"-u\", \"UUID\", \"-m\", \"HelloWorld!\"])"
   ]
  }
 ],
 "metadata": {
  "kernelspec": {
   "display_name": "venv",
   "language": "python",
   "name": "venv"
  },
  "language_info": {
   "codemirror_mode": {
    "name": "ipython",
    "version": 3
   },
   "file_extension": ".py",
   "mimetype": "text/x-python",
   "name": "python",
   "nbconvert_exporter": "python",
   "pygments_lexer": "ipython3",
   "version": "3.8.9"
  }
 },
 "nbformat": 4,
 "nbformat_minor": 5
}
