{
 "cells": [
  {
   "cell_type": "markdown",
   "id": "61f3aebd",
   "metadata": {},
   "source": [
    "Salesforce\n",
    "------------\n",
    "* Account\n",
    "    * name\n",
    "    * logo\n",
    "    * website\n",
    "    * locations: HQ, dev shops/teams\n",
    "    * primary contact\n",
    "    * type: prospect or customer (and all the other types)\n",
    "    * sales owner: SDR, AE, or AM\n",
    "    * tech owners: SE & SA\n",
    "* Opps\n",
    "* Activity\n",
    "* Use Case views\n",
    "\n",
    "## Jupyter Integration\n",
    "### Create Connected App\n",
    "\n",
    "On the webpage https://developer.salesforce.com/signup create a connected app with the following info:\n",
    "\n",
    "```\n",
    "Connected App Name: Connect Salesforce\n",
    "Contact Email: <your_email>\n",
    "Callback URL: https://login.salesforce.com/services/oauth2/callback\n",
    "Enable OAuth Settings: Checked\n",
    "Selected OAuth Scopes: Full access (full)\n",
    "```\n",
    "\n",
    "In the Jupyter Notebook\n",
    "\n",
    "```python\n",
    "import requests\n",
    "params = {\n",
    "    \"grant_type\": \"password\",\n",
    "    \"client_id\": \"\", # Consumer Key\n",
    "    \"client_secret\": \"\", # Consumer Secret\n",
    "    \"username\": \"\", # The email you use to login\n",
    "    \"password\": \"\" # Concat your password and your security token\n",
    "}\n",
    "response = requests.post(\"https://login.salesforce.com/services/oauth2/token\", params=params)\n",
    "# if you connect to a Sandbox, use test.salesforce.com instead\n",
    "access_token = response.json().get(\"access_token\")\n",
    "instance_url = response.json().get(\"instance_url\")\n",
    "print(\"Access Token:\", access_token)\n",
    "print(\"Instance URL\", instance_url)\n",
    "```\n",
    "\n",
    "\n",
    "Zendesk Tickets\n",
    "-------------------\n",
    "\n",
    "* open & pending visible by default\n",
    "* resolved hidden by default but can be revealed\n",
    "\n",
    "\n",
    "PubNub Account Dashboard\n",
    "---------------------------------\n",
    "\n",
    "* PN Dashboard for short - what are we officially calling this now? \n",
    "* The portal APIs from the Usage page will be of value.\n",
    "    * General account information\n",
    "    * Identify primary product key set\n",
    "        * display properties are shown in the UI\n",
    "        * show the pnconfig key set properties (hidden but showable)\n",
    "    * Show billing as charts/graphs\n",
    "        * eARR\n",
    "        * MRR\n",
    "\n",
    "\n",
    "Atlassian Confluence\n",
    "-------------------------\n",
    "\n",
    "* Use Cases\n",
    "* Meeting Notes\n",
    "\n",
    "\n",
    "Mode\n",
    "----\n",
    "\n",
    "* Key Set change audit\n",
    "* what other queries are valuable in Mode? ask AEs/AMs\n",
    "\n",
    "## Jupyter Integration\n",
    "\n",
    "See downbelow for an example\n",
    "\n",
    "Superset\n",
    "----------\n",
    "\n",
    "* This doesn't allow external access but it must be possible (SOC2 issues)\n",
    "* SDK usage: 1 hour from the previous day's logs\n",
    "* publish\n",
    "* subscribe\n",
    "* auth (if Access Manager enabled)\n",
    "\n",
    "\n",
    "External Sources\n",
    "--------------------\n",
    "\n",
    "Luke has some R&D on this to gather data about companies from the web\n",
    "\n",
    "* ZoomInfo\n",
    "* TechCrunch\n"
   ]
  },
  {
   "cell_type": "markdown",
   "id": "808763dc",
   "metadata": {},
   "source": [
    "## Mode Example\n",
    "Using Iframes directly share the link and it should work if you're logged in to Mode."
   ]
  },
  {
   "cell_type": "code",
   "execution_count": 4,
   "id": "ced2fa4a",
   "metadata": {},
   "outputs": [
    {
     "data": {
      "text/html": [
       "\n",
       "        <iframe\n",
       "            width=\"1200\"\n",
       "            height=\"350\"\n",
       "            src=\"https://app.mode.com/pubnub/reports/e198fca12705/runs/8979b3750fe9/embed\"\n",
       "            frameborder=\"0\"\n",
       "            allowfullscreen\n",
       "            \n",
       "        ></iframe>\n",
       "        "
      ],
      "text/plain": [
       "<IPython.lib.display.IFrame at 0x105ef4fa0>"
      ]
     },
     "execution_count": 4,
     "metadata": {},
     "output_type": "execute_result"
    }
   ],
   "source": [
    "from IPython.display import IFrame\n",
    "IFrame('https://app.mode.com/pubnub/reports/e198fca12705/runs/8979b3750fe9/embed', width=1200, height=350)"
   ]
  },
  {
   "cell_type": "code",
   "execution_count": 29,
   "id": "853ebd32",
   "metadata": {},
   "outputs": [
    {
     "name": "stdout",
     "output_type": "stream",
     "text": [
      "Defaulting to user installation because normal site-packages is not writeable\n",
      "Requirement already satisfied: pubnub in /Users/sergio.munoz/Library/Python/3.8/lib/python/site-packages (7.0.0)\n",
      "Requirement already satisfied: aiohttp in /Users/sergio.munoz/Library/Python/3.8/lib/python/site-packages (from pubnub) (3.8.1)\n",
      "Requirement already satisfied: cbor2 in /Users/sergio.munoz/Library/Python/3.8/lib/python/site-packages (from pubnub) (5.4.3)\n",
      "Requirement already satisfied: pycryptodomex>=3.3 in /Users/sergio.munoz/Library/Python/3.8/lib/python/site-packages (from pubnub) (3.15.0)\n",
      "Requirement already satisfied: requests>=2.4 in /Users/sergio.munoz/Library/Python/3.8/lib/python/site-packages (from pubnub) (2.28.1)\n",
      "Requirement already satisfied: idna<4,>=2.5 in /Users/sergio.munoz/Library/Python/3.8/lib/python/site-packages (from requests>=2.4->pubnub) (3.3)\n",
      "Requirement already satisfied: certifi>=2017.4.17 in /Users/sergio.munoz/Library/Python/3.8/lib/python/site-packages (from requests>=2.4->pubnub) (2022.6.15)\n",
      "Requirement already satisfied: urllib3<1.27,>=1.21.1 in /Users/sergio.munoz/Library/Python/3.8/lib/python/site-packages (from requests>=2.4->pubnub) (1.26.12)\n",
      "Requirement already satisfied: charset-normalizer<3,>=2 in /Users/sergio.munoz/Library/Python/3.8/lib/python/site-packages (from requests>=2.4->pubnub) (2.1.1)\n",
      "Requirement already satisfied: aiosignal>=1.1.2 in /Users/sergio.munoz/Library/Python/3.8/lib/python/site-packages (from aiohttp->pubnub) (1.2.0)\n",
      "Requirement already satisfied: multidict<7.0,>=4.5 in /Users/sergio.munoz/Library/Python/3.8/lib/python/site-packages (from aiohttp->pubnub) (6.0.2)\n",
      "Requirement already satisfied: async-timeout<5.0,>=4.0.0a3 in /Users/sergio.munoz/Library/Python/3.8/lib/python/site-packages (from aiohttp->pubnub) (4.0.2)\n",
      "Requirement already satisfied: yarl<2.0,>=1.0 in /Users/sergio.munoz/Library/Python/3.8/lib/python/site-packages (from aiohttp->pubnub) (1.8.1)\n",
      "Requirement already satisfied: frozenlist>=1.1.1 in /Users/sergio.munoz/Library/Python/3.8/lib/python/site-packages (from aiohttp->pubnub) (1.3.1)\n",
      "Requirement already satisfied: attrs>=17.3.0 in /Users/sergio.munoz/Library/Python/3.8/lib/python/site-packages (from aiohttp->pubnub) (22.1.0)\n",
      "\n",
      "\u001b[1m[\u001b[0m\u001b[34;49mnotice\u001b[0m\u001b[1;39;49m]\u001b[0m\u001b[39;49m A new release of pip available: \u001b[0m\u001b[31;49m22.2\u001b[0m\u001b[39;49m -> \u001b[0m\u001b[32;49m22.2.2\u001b[0m\n",
      "\u001b[1m[\u001b[0m\u001b[34;49mnotice\u001b[0m\u001b[1;39;49m]\u001b[0m\u001b[39;49m To update, run: \u001b[0m\u001b[32;49m/Library/Developer/CommandLineTools/usr/bin/python3 -m pip install --upgrade pip\u001b[0m\n",
      "Defaulting to user installation because normal site-packages is not writeable\n",
      "Looking in indexes: https://test.pypi.org/simple/\n",
      "Requirement already satisfied: pubnub-python-tools in /Users/sergio.munoz/Library/Python/3.8/lib/python/site-packages (0.1.18)\n",
      "\n",
      "\u001b[1m[\u001b[0m\u001b[34;49mnotice\u001b[0m\u001b[1;39;49m]\u001b[0m\u001b[39;49m A new release of pip available: \u001b[0m\u001b[31;49m22.2\u001b[0m\u001b[39;49m -> \u001b[0m\u001b[32;49m22.2.2\u001b[0m\n",
      "\u001b[1m[\u001b[0m\u001b[34;49mnotice\u001b[0m\u001b[1;39;49m]\u001b[0m\u001b[39;49m To update, run: \u001b[0m\u001b[32;49m/Library/Developer/CommandLineTools/usr/bin/python3 -m pip install --upgrade pip\u001b[0m\n"
     ]
    }
   ],
   "source": [
    "# Install a pip package in the current Jupyter kernel\n",
    "import sys\n",
    "!{sys.executable} -m pip install -U pubnub\n",
    "!{sys.executable} -m pip install -U --index-url https://test.pypi.org/simple/ --no-deps pubnub-python-tools"
   ]
  },
  {
   "cell_type": "code",
   "execution_count": 36,
   "id": "4fa2c38d",
   "metadata": {},
   "outputs": [
    {
     "name": "stdout",
     "output_type": "stream",
     "text": [
      "Namespace(device_manager=None, here_now=None, message=None, presence=False, publish=None, publish_key=None, subscribe='u.e001.UUID', subscribe_key='sub-c-0b961af6-42b7-463d-ac2f-99a6714b57af', unsubscribe=None, uuid='UUID')\n",
      "Namespace(device_manager=None, here_now=None, message='HelloWorld!', presence=False, publish='u.e001.UUID', publish_key='pub-c-a5d7e586-619c-4cad-85a6-51b08f033bc7', subscribe=None, subscribe_key='sub-c-0b961af6-42b7-463d-ac2f-99a6714b57af', unsubscribe=None, uuid='UUID')\n",
      "Message channel: u.e001.UUIDMessage channel: u.e001.UUID\n",
      "Message subscription: None\n",
      "Message timetoken: 16617891347222679\n",
      "Message payload: HelloWorld!\n",
      "Message publisher: UUID\n",
      "\n",
      "Message subscription: None\n",
      "Message timetoken: 16617891347222679\n",
      "Message payload: HelloWorld!\n",
      "Message publisher: UUID\n",
      "Message channel: u.e001.UUID\n",
      "Message subscription: None\n",
      "Message timetoken: 16617891347222679\n",
      "Message payload: HelloWorld!\n",
      "Message publisher: UUID\n",
      "Message channel: u.e001.UUID\n",
      "Message subscription: None\n",
      "Message timetoken: 16617891347222679\n",
      "Message payload: HelloWorld!\n",
      "Message publisher: UUID\n",
      "Message channel: u.e001.UUID\n",
      "Message subscription: None\n",
      "Message timetoken: 16617891347222679\n",
      "Message payload: HelloWorld!\n",
      "Message publisher: UUID\n"
     ]
    }
   ],
   "source": [
    "from pubnub_python_tools.app.main_app import main\n",
    "main([\"-sk\", \"sub-c-0b961af6-42b7-463d-ac2f-99a6714b57af\", \"-s\", \"u.e001.UUID\", \"-u\", \"UUID\"])\n",
    "main([\"-sk\", \"sub-c-0b961af6-42b7-463d-ac2f-99a6714b57af\", \"-pk\", \"pub-c-a5d7e586-619c-4cad-85a6-51b08f033bc7\", \"-p\", \"u.e001.UUID\", \"-u\", \"UUID\", \"-m\", \"HelloWorld!\"])"
   ]
  },
  {
   "cell_type": "code",
   "execution_count": 34,
   "id": "3d4a8f36",
   "metadata": {},
   "outputs": [
    {
     "name": "stdout",
     "output_type": "stream",
     "text": [
      "Namespace(device_manager=None, here_now=None, message='HelloWorld!', presence=False, publish='u.e001.UUID', publish_key='pub-c-a5d7e586-619c-4cad-85a6-51b08f033bc7', subscribe=None, subscribe_key='sub-c-0b961af6-42b7-463d-ac2f-99a6714b57af', unsubscribe=None, uuid='UUID')\n",
      "Message channel: u.e001.UUID\n",
      "Message subscription: None\n",
      "Message timetoken: 16615680701223750\n",
      "Message payload: HelloWorld!\n",
      "Message publisher: UUID\n",
      "Message channel: u.e001.UUID\n",
      "Message subscription: None\n",
      "Message timetoken: 16615680701223750\n",
      "Message payload: HelloWorld!\n",
      "Message publisher: UUID\n",
      "Message channel: u.e001.UUID\n",
      "Message subscription: None\n",
      "Message timetoken: 16615680701223750\n",
      "Message payload: HelloWorld!\n",
      "Message publisher: UUID\n"
     ]
    }
   ],
   "source": []
  },
  {
   "cell_type": "code",
   "execution_count": null,
   "id": "425d9dad",
   "metadata": {},
   "outputs": [],
   "source": []
  }
 ],
 "metadata": {
  "kernelspec": {
   "display_name": "venv",
   "language": "python",
   "name": "venv"
  },
  "language_info": {
   "codemirror_mode": {
    "name": "ipython",
    "version": 3
   },
   "file_extension": ".py",
   "mimetype": "text/x-python",
   "name": "python",
   "nbconvert_exporter": "python",
   "pygments_lexer": "ipython3",
   "version": "3.8.9"
  }
 },
 "nbformat": 4,
 "nbformat_minor": 5
}
